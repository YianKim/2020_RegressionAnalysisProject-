{
  "nbformat": 4,
  "nbformat_minor": 0,
  "metadata": {
    "colab": {
      "name": "3. 명사추출(khaiii).ipynb",
      "private_outputs": true,
      "provenance": [],
      "collapsed_sections": [],
      "authorship_tag": "ABX9TyPdlX9aVD2/sjDnJKwGopUF",
      "include_colab_link": true
    },
    "kernelspec": {
      "name": "python3",
      "display_name": "Python 3"
    },
    "language_info": {
      "name": "python"
    },
    "accelerator": "GPU"
  },
  "cells": [
    {
      "cell_type": "markdown",
      "metadata": {
        "id": "view-in-github",
        "colab_type": "text"
      },
      "source": [
        "<a href=\"https://colab.research.google.com/github/YianKim/2020_RegressionAnalysisProject-/blob/main/3_%EB%AA%85%EC%82%AC%EC%B6%94%EC%B6%9C(khaiii).ipynb\" target=\"_parent\"><img src=\"https://colab.research.google.com/assets/colab-badge.svg\" alt=\"Open In Colab\"/></a>"
      ]
    },
    {
      "cell_type": "code",
      "metadata": {
        "id": "oUxKQywr9JX-"
      },
      "source": [
        "import requests\n",
        "import pandas as pd\n",
        "import pickle\n",
        "import gzip"
      ],
      "execution_count": null,
      "outputs": []
    },
    {
      "cell_type": "code",
      "metadata": {
        "id": "sAIBzgMDd8ut"
      },
      "source": [
        "# # khaiii api 저장\n",
        "\n",
        "# !git clone https://github.com/kakao/khaiii.git\n",
        "# !pip install cmake\n",
        "# !mkdir build\n",
        "# !cd build && cmake /content/khaiii\n",
        "# !cd /content/build/ && make all\n",
        "# !cd /content/build/ && make resource\n",
        "# !cd /content/build && make install\n",
        "# !cd /content/build && make package_python\n",
        "# !pip install /content/build/package_python\n",
        "\n",
        "from khaiii import KhaiiiApi\n",
        "api = KhaiiiApi()\n",
        "for word in api.analyze(\"안녕, 세상.\"):\n",
        "    print(word)"
      ],
      "execution_count": null,
      "outputs": []
    },
    {
      "cell_type": "code",
      "metadata": {
        "id": "sG2GM8GV6P70"
      },
      "source": [
        "# !pip install git+https://github.com/haven-jeon/PyKoSpacing.git\n",
        "from pykospacing import Spacing"
      ],
      "execution_count": null,
      "outputs": []
    },
    {
      "cell_type": "code",
      "metadata": {
        "id": "4GV8lYs29Ffr"
      },
      "source": [
        "# !pip install git+https://github.com/ssut/py-hanspell.git\n",
        "from hanspell import spell_checker"
      ],
      "execution_count": null,
      "outputs": []
    },
    {
      "cell_type": "code",
      "metadata": {
        "id": "tgv0oBXjd5QB"
      },
      "source": [
        "from google.colab import drive\n",
        "drive.mount('/content/drive')"
      ],
      "execution_count": null,
      "outputs": []
    },
    {
      "cell_type": "code",
      "metadata": {
        "id": "Q8LKnY5gd-nm"
      },
      "source": [
        "data = pd.read_csv(\"/content/drive/Shareddrives/2021민원/데이터/clean_data.csv\")"
      ],
      "execution_count": null,
      "outputs": []
    },
    {
      "cell_type": "code",
      "metadata": {
        "id": "34SOgtDkRG3q"
      },
      "source": [
        "data"
      ],
      "execution_count": null,
      "outputs": []
    },
    {
      "cell_type": "code",
      "metadata": {
        "id": "lFcxPT53yp_0"
      },
      "source": [
        "제목_norm = []\n",
        "for j in range(57249):\n",
        "  analyzed = api.analyze(spell_checker.check(str(Spacing(data[\"제목\"][j]))).checked)\n",
        "  # analyzed = api.analyze(data[\"제목\"][j])\n",
        "  # 형태소들을 넣을 빈 리스트\n",
        "  morphs_list = []\n",
        "  # 형태소단위로 튜플을 생성하여 한 리스트로 합치기\n",
        "  for word in analyzed:\n",
        "    for morph in word.morphs:\n",
        "      if morph.tag == \"NNG\" or morph.tag == \"NNP\":\n",
        "        morphs_list.append(morph.lex)\n",
        "  if morphs_list == []:\n",
        "    제목_norm.append([''])\n",
        "  else:\n",
        "    제목_norm.append(morphs_list)\n",
        "  if j%100==1:\n",
        "    print(j)\n",
        "\n",
        "data[\"제목_norm\"] = 제목_norm"
      ],
      "execution_count": null,
      "outputs": []
    },
    {
      "cell_type": "code",
      "metadata": {
        "id": "oUtbQy7QQy4D"
      },
      "source": [
        "질문내용_norm = []\n",
        "for j in range(57249):\n",
        "  # analyzed = api.analyze(spell_checker.check(str(Spacing(data[\"질문내용\"][j]))).checked)\n",
        "  analyzed = api.analyze(str(data[\"질문내용\"][j]))\n",
        "  # 형태소들을 넣을 빈 리스트\n",
        "  morphs_list = []\n",
        "  # 형태소단위로 튜플을 생성하여 한 리스트로 합치기\n",
        "  for word in analyzed:\n",
        "    for morph in word.morphs:\n",
        "      if morph.tag == \"NNG\" or morph.tag == \"NNP\":\n",
        "        morphs_list.append(morph.lex)\n",
        "  if morphs_list == []:\n",
        "    질문내용_norm.append([''])\n",
        "  else:\n",
        "    질문내용_norm.append(morphs_list)\n",
        "  if j%100==1:\n",
        "    print(j)\n",
        "\n",
        "data[\"질문내용_norm\"] = 질문내용_norm"
      ],
      "execution_count": null,
      "outputs": []
    },
    {
      "cell_type": "code",
      "metadata": {
        "id": "VqTVk3INR8b6"
      },
      "source": [
        "답변내용_norm = []\n",
        "for j in range(57249):\n",
        "  # analyzed = api.analyze(spell_checker.check(str(Spacing(data[\"답변내용\"][j]))).checked)\n",
        "  analyzed = api.analyze(str(data[\"답변내용\"][j]))\n",
        "  # 형태소들을 넣을 빈 리스트\n",
        "  morphs_list = []\n",
        "  # 형태소단위로 튜플을 생성하여 한 리스트로 합치기\n",
        "  for word in analyzed:\n",
        "    for morph in word.morphs:\n",
        "      if morph.tag == \"NNG\" or morph.tag == \"NNP\":\n",
        "        morphs_list.append(morph.lex)\n",
        "  if morphs_list == []:\n",
        "    답변내용_norm.append([''])\n",
        "  else:\n",
        "    답변내용_norm.append(morphs_list)\n",
        "  if j%100==1:\n",
        "    print(j)\n",
        "\n",
        "data[\"답변내용_norm\"] = 답변내용_norm"
      ],
      "execution_count": null,
      "outputs": []
    },
    {
      "cell_type": "code",
      "metadata": {
        "id": "S8ZopaQsSDJ0"
      },
      "source": [
        "# save and compress.\n",
        "with gzip.open('/content/drive/Shareddrives/2021민원/데이터/clean_data_띄어쓰기+khaiii_제목만.pickle', 'wb') as f:\n",
        "    pickle.dump(data, f)"
      ],
      "execution_count": null,
      "outputs": []
    }
  ]
}